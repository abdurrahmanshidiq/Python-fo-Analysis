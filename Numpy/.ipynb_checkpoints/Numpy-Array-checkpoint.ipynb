{
 "cells": [
  {
   "cell_type": "code",
   "execution_count": 1,
   "metadata": {},
   "outputs": [],
   "source": [
    "import numpy as np"
   ]
  },
  {
   "cell_type": "code",
   "execution_count": 23,
   "metadata": {},
   "outputs": [
    {
     "name": "stdout",
     "output_type": "stream",
     "text": [
      "[1 2 3 4 5]\n",
      "[1.5 2.5 5.  6.  7. ]\n",
      "[[1 2 3]\n",
      " [4 5 6]\n",
      " [7 8 9]]\n",
      "\n",
      "[1 2 3 4 5]\n",
      "[1.5 2.5 5.  6.  7. ]\n",
      "[[1 2 3]\n",
      " [4 5 6]\n",
      " [7 8 9]]\n"
     ]
    }
   ],
   "source": [
    "#ARRAY\n",
    "\n",
    "#LIST\n",
    "#Mengubah LIST 1-d menjadi array 1-d (VECTOR)\n",
    "a = np.array([1,2,3,4,5])\n",
    "print(a)\n",
    "b = np.array([1.5,2.5,5,6,7])\n",
    "print(b)\n",
    "#Mengubah LIST 2-d menjadi array 2-d (MATRICS)\n",
    "a2 = np.array([[1,2,3],[4,5,6],[7,8,9]])\n",
    "print(a2)\n",
    "\n",
    "print()\n",
    "\n",
    "#TUPLE\n",
    "#Mengubah TUPLE 1-d menjadi array 1-d (VECTOR)\n",
    "a1 = np.array((1,2,3,4,5))\n",
    "print(a1)\n",
    "b1 = np.array((1.5,2.5,5,6,7))\n",
    "print(b1)\n",
    "#Mengubah TUPLE 2-d menjadi array 2-d (MATRICS)\n",
    "b2 = np.array(((1,2,3),(4,5,6),(7,8,9)))\n",
    "print(b2)"
   ]
  },
  {
   "cell_type": "code",
   "execution_count": 26,
   "metadata": {},
   "outputs": [
    {
     "name": "stdout",
     "output_type": "stream",
     "text": [
      "c : [0 1 2 3 4 5 6 7 8 9]\n",
      "d : [ 1  2  3  4  5  6  7  8  9 10]\n",
      "e : [ 0  2  4  6  8 10]\n",
      "f : [10  9  8  7  6  5  4  3  2  1]\n"
     ]
    }
   ],
   "source": [
    "#ARANGE\n",
    "#Membuat Array Vector dengan Range\n",
    "\n",
    "# Membuat sebuah array vector  0 - 9\n",
    "c = np.arange(10)\n",
    "print(f'c : {c}')\n",
    "# Membuat sebuah array vector  1- 10\n",
    "d = np.arange(1,11)\n",
    "print(f'd : {d}')\n",
    "# Membuat sebuah array vector  0- 10 genap\n",
    "e = np.arange(0,11,2)\n",
    "print(f'e : {e}')\n",
    "# Membuat sebuah array vector  10-0\n",
    "f = np.arange(10,0,-1)\n",
    "print(f'f : {f}')"
   ]
  },
  {
   "cell_type": "code",
   "execution_count": 45,
   "metadata": {},
   "outputs": [
    {
     "name": "stdout",
     "output_type": "stream",
     "text": [
      "g : [ 1.  4.  7. 10.]\n",
      "h : [ 0. 10.]\n",
      "i : [ 0.   2.5  5.   7.5 10. ]\n",
      "j : [ 1.  2.  3.  4.  5.  6.  7.  8.  9. 10.]\n"
     ]
    }
   ],
   "source": [
    "#LINSPACE\n",
    "#Membuat panjang array yg ditentukan (angka ketiga dari syntax), dengan jarak antar nilai pada array adalah sama\n",
    "\n",
    "# Dari 1 - 10, sebanyak 4 angka\n",
    "g = np.linspace(1,10,4)\n",
    "print(f'g : {g}')\n",
    "# Dari 0 - 10, sebanyak 2 angka\n",
    "h = np.linspace(0,10,2)\n",
    "print(f'h : {h}')\n",
    "# Dari 0 - 10, sebanyak 5 angka\n",
    "i = np.linspace(0,10,5)\n",
    "print(f'i : {i}')\n",
    "# Dari 1 - 10, sebanyak 10 angka\n",
    "j = np.linspace(1,10,10)\n",
    "print(f'j : {j}')"
   ]
  },
  {
   "cell_type": "code",
   "execution_count": 48,
   "metadata": {},
   "outputs": [
    {
     "name": "stdout",
     "output_type": "stream",
     "text": [
      "1\n",
      "[ 1  6  7  7 10  2  9]\n"
     ]
    }
   ],
   "source": [
    "#RANDOM INTEGER\n",
    "\n",
    "# Random integer dari 1 - 10, sebanyak 1 data\n",
    "randInt = np.random.randint(1, 11) #--> (1,11) adalah arange dari 1-10 & (1/default/tidak ditampilak) adalah banyak data int yg ingin ditampilkan\n",
    "print(randInt)\n",
    "# Random integer dari 1 - 10, sebanyak 7 data\n",
    "randInt2  = np.random.randint(1,11,7) #--> (1,11) adalah arange dari 1-10 & (7) adalah banyak data int yg ingin ditampilkan\n",
    "print(randInt2)"
   ]
  },
  {
   "cell_type": "code",
   "execution_count": 44,
   "metadata": {},
   "outputs": [
    {
     "name": "stdout",
     "output_type": "stream",
     "text": [
      "Array k : [1 2 3 4 5 6]\n",
      "shape k : (6,)\n",
      "\n",
      "rehape k(2,3) :\n",
      " [[1 2 3]\n",
      " [4 5 6]]\n",
      "rehape k(3,2) :\n",
      " [[1 2]\n",
      " [3 4]\n",
      " [5 6]]\n",
      "reshape k(3,2) mejadi 1 baris kembali : [1 2 3 4 5 6]\n"
     ]
    }
   ],
   "source": [
    "#SHAPE & RESHAPE\n",
    "\n",
    "# shape digunakan untuk melihat  bentuk array\n",
    "k = np.arange(1,7)\n",
    "print(f'Array k : {k}')\n",
    "print(f'shape k : {k.shape}')\n",
    "\n",
    "print()\n",
    "\n",
    "# reshape digunakan untuk mengubah bentu array\n",
    "# reshape(2, 3) --> Mengubah bentuk menjadi 2 baris 3 kolom\n",
    "k1 = k.reshape(2, 3)\n",
    "print(f'rehape k(2,3) :\\n {k1}')\n",
    "# reshape(3, 2) --> Mengubah bentuk menjadi 3 baris 2 kolom\n",
    "k2 = k.reshape(3, 2)\n",
    "print(f'rehape k(3,2) :\\n {k2}')\n",
    "# reshape(3, 2) --> Mengubah bentuk 3 baris 2 kolom, menjadi 1 baris\n",
    "k3 = k2.reshape(6)\n",
    "print(f'reshape k(3,2) mejadi 1 baris kembali : {k3}')\n"
   ]
  },
  {
   "cell_type": "code",
   "execution_count": 56,
   "metadata": {},
   "outputs": [
    {
     "name": "stdout",
     "output_type": "stream",
     "text": [
      "[ 3  3 19 35  5 36 27 42 14 30]\n",
      "nilai max dari random array : 42\n",
      "nilai min dari random array : 3\n"
     ]
    }
   ],
   "source": [
    "#MAX() & MIN()\n",
    "\n",
    "# Random dari 0 - 49, sebanyak 10 data\n",
    "rndmArr = np.random.randint(0,50,10)\n",
    "print(rndmArr)\n",
    "\n",
    "maxInt = rndmArr.max()\n",
    "print(f'nilai max dari random array : {maxInt}')\n",
    "minInt = rndmArr.min()\n",
    "print(f'nilai min dari random array : {minInt}')"
   ]
  },
  {
   "cell_type": "code",
   "execution_count": 81,
   "metadata": {},
   "outputs": [
    {
     "name": "stdout",
     "output_type": "stream",
     "text": [
      "Vector :\n",
      " [ 1  2  3  4  5  6  7  8  9 10 11 12 13 14 15 16 17 18 19 20 21 22 23 24\n",
      " 25]\n",
      "Matrics (5,5):\n",
      " [[ 1  2  3  4  5]\n",
      " [ 6  7  8  9 10]\n",
      " [11 12 13 14 15]\n",
      " [16 17 18 19 20]\n",
      " [21 22 23 24 25]]\n",
      "Nilai Max dari Matrics (5,5) : 25\n",
      "Nilai Min dari Matrics (5,5) : 1\n",
      "\n",
      "Matrics baris 2&5 :\n",
      "[ 6  7  8  9 10]\n",
      "[21 22 23 24 25]\n",
      "\n",
      "Nilai Max pada baris ke-2 : 10\n",
      "Nilai Min pada baris ke-4 (baris terakhir) : 21\n"
     ]
    }
   ],
   "source": [
    "#MAX & MIN pada Array 2-d / MATRICS\n",
    "\n",
    "vctr = np.arange(1,26)\n",
    "print(f'Vector :\\n {vctr}')\n",
    "#reshape vector menjadi matrics (5,5)\n",
    "mtrx = vctr.reshape(5,5)\n",
    "print(f'Matrics (5,5):\\n {mtrx}')\n",
    "\n",
    "#Mencari nilai MAX & MIN dari matrics\n",
    "maxMtrx = mtrx.max()\n",
    "print(f'Nilai Max dari Matrics (5,5) : {maxMtrx}')\n",
    "minMtrx = mtrx.min()\n",
    "print(f'Nilai Min dari Matrics (5,5) : {minMtrx}')\n",
    "print()\n",
    "\n",
    "#Mencari nilai MAX & MIN baris ke 2&5 pada matrics\n",
    "\n",
    "#ambil baris yang ingin dicari nilai Max & Min nya\n",
    "print('Matrics baris 2&5 :')\n",
    "print(mtrx[1])\n",
    "print(mtrx[-1])\n",
    "print()\n",
    "print(f'Nilai Max pada baris ke-2 : {mtrx[1].max()}')\n",
    "print(f'Nilai Min pada baris ke-4 (baris terakhir) : {mtrx[-1].min()}')\n",
    "\n",
    "\n"
   ]
  },
  {
   "cell_type": "code",
   "execution_count": null,
   "metadata": {},
   "outputs": [],
   "source": []
  }
 ],
 "metadata": {
  "kernelspec": {
   "display_name": "Python 3",
   "language": "python",
   "name": "python3"
  },
  "language_info": {
   "codemirror_mode": {
    "name": "ipython",
    "version": 3
   },
   "file_extension": ".py",
   "mimetype": "text/x-python",
   "name": "python",
   "nbconvert_exporter": "python",
   "pygments_lexer": "ipython3",
   "version": "3.7.4"
  }
 },
 "nbformat": 4,
 "nbformat_minor": 4
}
