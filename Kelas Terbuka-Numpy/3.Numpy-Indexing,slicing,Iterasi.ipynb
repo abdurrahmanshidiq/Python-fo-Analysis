{
 "cells": [
  {
   "cell_type": "code",
   "execution_count": 1,
   "metadata": {},
   "outputs": [],
   "source": [
    "import numpy as np"
   ]
  },
  {
   "cell_type": "code",
   "execution_count": 2,
   "metadata": {},
   "outputs": [
    {
     "data": {
      "text/plain": [
       "array([ 0,  1,  4,  9, 16, 25, 36, 49, 64, 81], dtype=int32)"
      ]
     },
     "execution_count": 2,
     "metadata": {},
     "output_type": "execute_result"
    }
   ],
   "source": [
    "np.arange(10)**2"
   ]
  },
  {
   "cell_type": "code",
   "execution_count": 15,
   "metadata": {},
   "outputs": [
    {
     "name": "stdout",
     "output_type": "stream",
     "text": [
      "[ 0  1  4  9 16 25 36 49 64 81]\n"
     ]
    }
   ],
   "source": [
    "a = np.arange(0,10)**2\n",
    "print(a)"
   ]
  },
  {
   "cell_type": "markdown",
   "metadata": {},
   "source": [
    "> Mengambil Nilai"
   ]
  },
  {
   "cell_type": "code",
   "execution_count": 17,
   "metadata": {},
   "outputs": [
    {
     "name": "stdout",
     "output_type": "stream",
     "text": [
      "Elemen ke-1 dari a adalah : 0\n",
      "Elemen ke-7 dari a adalah : 36\n",
      "Elemen ke-4 dari a adalah : 9\n",
      "Elemen terakhir dari a adalah : 81\n"
     ]
    }
   ],
   "source": [
    "#Menggunakan index, sama seperti pada python\n",
    "\n",
    "print(f'Elemen ke-1 dari a adalah : {a[0]}')\n",
    "print(f'Elemen ke-7 dari a adalah : {a[6]}')\n",
    "print(f'Elemen ke-4 dari a adalah : {a[3]}')\n",
    "print(f'Elemen terakhir dari a adalah : {a[-1]}')"
   ]
  },
  {
   "cell_type": "markdown",
   "metadata": {},
   "source": [
    "> Slicing"
   ]
  },
  {
   "cell_type": "code",
   "execution_count": 26,
   "metadata": {},
   "outputs": [
    {
     "name": "stdout",
     "output_type": "stream",
     "text": [
      "Elemen dari 1-6 : [ 0  1  4  9 16 25]\n",
      "Elemen dari 4-akhir : [ 9 16 25 36 49 64 81]\n",
      "Elemen dari awal-5 : [ 0  1  4  9 16]\n",
      "Elemen dari 3-8 : [ 4  9 16 25 36 49]\n"
     ]
    }
   ],
   "source": [
    "print(f'Elemen dari 1-6 : {a[0:6]}')\n",
    "print(f'Elemen dari 4-akhir : {a[3:]}')\n",
    "print(f'Elemen dari awal-5 : {a[0:5]}')\n",
    "print(f'Elemen dari 3-8 : {a[2:8]}')"
   ]
  },
  {
   "cell_type": "markdown",
   "metadata": {},
   "source": [
    "> Iterasi / Loop"
   ]
  },
  {
   "cell_type": "code",
   "execution_count": 27,
   "metadata": {},
   "outputs": [
    {
     "name": "stdout",
     "output_type": "stream",
     "text": [
      "0\n",
      "1\n",
      "4\n",
      "9\n",
      "16\n",
      "25\n",
      "36\n",
      "49\n",
      "64\n",
      "81\n"
     ]
    }
   ],
   "source": [
    "for i in a:\n",
    "    print(i)"
   ]
  },
  {
   "cell_type": "code",
   "execution_count": 38,
   "metadata": {},
   "outputs": [
    {
     "name": "stdout",
     "output_type": "stream",
     "text": [
      "[ 0  1  4  9 16 25 36 49 64 81]\n",
      "[0, 4, 16, 36, 64]\n",
      "[1, 9, 25, 49, 81]\n"
     ]
    }
   ],
   "source": [
    "even = []\n",
    "odd = []\n",
    "for i in range(len(a)):\n",
    "    if a[i] % 2 == 0:\n",
    "        even.append (a[i])\n",
    "    else:\n",
    "        odd.append (a[i]) \n",
    "print(a)        \n",
    "print(even)\n",
    "print(odd)\n",
    "        \n",
    "        \n",
    "    "
   ]
  },
  {
   "cell_type": "code",
   "execution_count": null,
   "metadata": {},
   "outputs": [],
   "source": []
  }
 ],
 "metadata": {
  "kernelspec": {
   "display_name": "Python 3",
   "language": "python",
   "name": "python3"
  },
  "language_info": {
   "codemirror_mode": {
    "name": "ipython",
    "version": 3
   },
   "file_extension": ".py",
   "mimetype": "text/x-python",
   "name": "python",
   "nbconvert_exporter": "python",
   "pygments_lexer": "ipython3",
   "version": "3.7.4"
  }
 },
 "nbformat": 4,
 "nbformat_minor": 4
}
