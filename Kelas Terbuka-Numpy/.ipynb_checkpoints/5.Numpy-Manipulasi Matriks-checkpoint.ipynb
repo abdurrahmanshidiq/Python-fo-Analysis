{
 "cells": [
  {
   "cell_type": "code",
   "execution_count": 1,
   "metadata": {},
   "outputs": [],
   "source": [
    "import numpy as np"
   ]
  },
  {
   "cell_type": "code",
   "execution_count": 6,
   "metadata": {},
   "outputs": [
    {
     "name": "stdout",
     "output_type": "stream",
     "text": [
      "[[ 1  2  3]\n",
      " [ 4  5  6]\n",
      " [ 7  8  9]\n",
      " [ 9 10 11]]\n",
      "Matriks a memiliki bentuk : (4, 3)\n"
     ]
    }
   ],
   "source": [
    "a = np.array([[1,2,3],[4,5,6],[7,8,9],[9,10,11]])\n",
    "print(a)\n",
    "print(f'Matriks a memiliki bentuk : {a.shape}')"
   ]
  },
  {
   "cell_type": "markdown",
   "metadata": {},
   "source": [
    ">Transpose Matriks\n",
    " - mereturn sebuah bentuk matriks baru(menukar baris dan kolom), tp tidak mengubah bentuk asli matriks itu sendiri"
   ]
  },
  {
   "cell_type": "code",
   "execution_count": 13,
   "metadata": {},
   "outputs": [
    {
     "name": "stdout",
     "output_type": "stream",
     "text": [
      "[[ 1  2  3]\n",
      " [ 4  5  6]\n",
      " [ 7  8  9]\n",
      " [ 9 10 11]]\n"
     ]
    }
   ],
   "source": [
    "print(a)"
   ]
  },
  {
   "cell_type": "code",
   "execution_count": 14,
   "metadata": {},
   "outputs": [
    {
     "name": "stdout",
     "output_type": "stream",
     "text": [
      "Transpose Matriks a :\n",
      "[[ 1  4  7  9]\n",
      " [ 2  5  8 10]\n",
      " [ 3  6  9 11]]\n",
      "Matriks a memiliki bentuk : (4, 3)\n"
     ]
    }
   ],
   "source": [
    "print('Transpose Matriks a :')\n",
    "print(a.transpose())\n",
    "print(f'Matriks a memiliki bentuk : {a.shape}') #walaupun bentuknya menjadi (3,4) tp bentuk aslinya tetap (4,3)"
   ]
  },
  {
   "cell_type": "markdown",
   "metadata": {},
   "source": [
    ">Flatten Array, Vector Basis"
   ]
  },
  {
   "cell_type": "code",
   "execution_count": 11,
   "metadata": {},
   "outputs": [
    {
     "name": "stdout",
     "output_type": "stream",
     "text": [
      "[[ 1  2  3]\n",
      " [ 4  5  6]\n",
      " [ 7  8  9]\n",
      " [ 9 10 11]]\n"
     ]
    }
   ],
   "source": [
    "print(a)"
   ]
  },
  {
   "cell_type": "code",
   "execution_count": 12,
   "metadata": {},
   "outputs": [
    {
     "name": "stdout",
     "output_type": "stream",
     "text": [
      "Flatten Matriks a :\n",
      "[ 1  2  3  4  5  6  7  8  9  9 10 11]\n",
      "Matriks a memiliki bentuk : (4, 3)\n"
     ]
    }
   ],
   "source": [
    "print('Flatten Matriks a :')\n",
    "print(a.ravel())\n",
    "print(f'Matriks a memiliki bentuk : {a.shape}') #walaupun bentuknya menjadi (3,4) tp bentuk aslinya tetap (4,3)"
   ]
  },
  {
   "cell_type": "markdown",
   "metadata": {},
   "source": [
    ">Reshape"
   ]
  },
  {
   "cell_type": "code",
   "execution_count": 15,
   "metadata": {},
   "outputs": [
    {
     "name": "stdout",
     "output_type": "stream",
     "text": [
      "[[ 1  2  3]\n",
      " [ 4  5  6]\n",
      " [ 7  8  9]\n",
      " [ 9 10 11]]\n"
     ]
    }
   ],
   "source": [
    "print(a)"
   ]
  },
  {
   "cell_type": "code",
   "execution_count": 16,
   "metadata": {},
   "outputs": [
    {
     "name": "stdout",
     "output_type": "stream",
     "text": [
      "Reshape Matriks a :\n",
      "[[ 1  2  3  4  5  6]\n",
      " [ 7  8  9  9 10 11]]\n",
      "Matriks a memiliki bentuk : (4, 3)\n"
     ]
    }
   ],
   "source": [
    "print('Reshape Matriks a :')\n",
    "print(a.reshape(2,6))\n",
    "print(f'Matriks a memiliki bentuk : {a.shape}') #walaupun bentuknya menjadi (3,4) tp bentuk aslinya tetap (4,3)"
   ]
  },
  {
   "cell_type": "markdown",
   "metadata": {},
   "source": [
    ">Resize"
   ]
  },
  {
   "cell_type": "code",
   "execution_count": 18,
   "metadata": {},
   "outputs": [
    {
     "name": "stdout",
     "output_type": "stream",
     "text": [
      "[[ 1  2  3]\n",
      " [ 4  5  6]\n",
      " [ 7  8  9]\n",
      " [ 9 10 11]]\n"
     ]
    }
   ],
   "source": [
    "print(a)"
   ]
  },
  {
   "cell_type": "code",
   "execution_count": 21,
   "metadata": {},
   "outputs": [
    {
     "name": "stdout",
     "output_type": "stream",
     "text": [
      "Resize Matriks a :\n",
      "None\n",
      "Matriks a memiliki bentuk : (2, 6)\n"
     ]
    }
   ],
   "source": [
    "print('Resize Matriks a :')\n",
    "print(a.resize(2,6)) #tidak mengembalikan nilai. karena fungsi resize merubah bentuk matriks secara permanen. syntaxnya harus dirubah\n",
    "print(f'Matriks a memiliki bentuk : {a.shape}') #merubah bentuk matriks menjadi dari (4,3) menjadi (2,6)"
   ]
  },
  {
   "cell_type": "code",
   "execution_count": 24,
   "metadata": {},
   "outputs": [
    {
     "name": "stdout",
     "output_type": "stream",
     "text": [
      "[[ 1  2  3  4  5  6]\n",
      " [ 7  8  9  9 10 11]]\n",
      "Matriks a memiliki bentuk : (2, 6)\n"
     ]
    }
   ],
   "source": [
    "#agar resize mengembalikan sebuah nilai maka,\n",
    "a.resize(2,6)\n",
    "print(a)\n",
    "print(f'Matriks a memiliki bentuk : {a.shape}') #merubah bentuk matriks menjadi dari (4,3) menjadi (2,6)"
   ]
  },
  {
   "cell_type": "code",
   "execution_count": null,
   "metadata": {},
   "outputs": [],
   "source": []
  }
 ],
 "metadata": {
  "kernelspec": {
   "display_name": "Python 3",
   "language": "python",
   "name": "python3"
  },
  "language_info": {
   "codemirror_mode": {
    "name": "ipython",
    "version": 3
   },
   "file_extension": ".py",
   "mimetype": "text/x-python",
   "name": "python",
   "nbconvert_exporter": "python",
   "pygments_lexer": "ipython3",
   "version": "3.7.4"
  }
 },
 "nbformat": 4,
 "nbformat_minor": 4
}
