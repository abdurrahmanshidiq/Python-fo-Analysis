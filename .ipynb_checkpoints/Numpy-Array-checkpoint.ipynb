{
 "cells": [
  {
   "cell_type": "code",
   "execution_count": 4,
   "metadata": {},
   "outputs": [],
   "source": [
    "import numpy as np"
   ]
  },
  {
   "cell_type": "code",
   "execution_count": 6,
   "metadata": {},
   "outputs": [
    {
     "name": "stdout",
     "output_type": "stream",
     "text": [
      "a = [1 2 3 4 5]\n",
      "b = [1.5 2.5 5.  6.  7. ]\n",
      "a2 = [[1 2 3]\n",
      " [4 5 6]\n",
      " [7 8 9]]\n",
      "\n",
      "a1 = [1 2 3 4 5]\n",
      "b1 = [1.5 2.5 5.  6.  7. ]\n",
      "b2 = [[1 2 3]\n",
      " [4 5 6]\n",
      " [7 8 9]]\n"
     ]
    }
   ],
   "source": [
    "#ARRAY\n",
    "\n",
    "#LIST\n",
    "#Mengubah LIST 1-d menjadi array 1-d (VECTOR)\n",
    "a = np.array([1,2,3,4,5])\n",
    "print(f'a = {a}')\n",
    "b = np.array([1.5,2.5,5,6,7])\n",
    "print(f'b = {b}')\n",
    "#Mengubah LIST 2-d menjadi array 2-d (MATRICS)\n",
    "a2 = np.array([[1,2,3],[4,5,6],[7,8,9]])\n",
    "print(f'a2 = {a2}')\n",
    "\n",
    "print()\n",
    "\n",
    "#TUPLE\n",
    "#Mengubah TUPLE 1-d menjadi array 1-d (VECTOR)\n",
    "a1 = np.array((1,2,3,4,5))\n",
    "print(f'a1 = {a1}')\n",
    "b1 = np.array((1.5,2.5,5,6,7))\n",
    "print(f'b1 = {b1}')\n",
    "#Mengubah TUPLE 2-d menjadi array 2-d (MATRICS)\n",
    "b2 = np.array(((1,2,3),(4,5,6),(7,8,9)))\n",
    "print(f'b2 = {b2}')"
   ]
  },
  {
   "cell_type": "code",
   "execution_count": 26,
   "metadata": {},
   "outputs": [
    {
     "name": "stdout",
     "output_type": "stream",
     "text": [
      "c : [0 1 2 3 4 5 6 7 8 9]\n",
      "d : [ 1  2  3  4  5  6  7  8  9 10]\n",
      "e : [ 0  2  4  6  8 10]\n",
      "f : [10  9  8  7  6  5  4  3  2  1]\n"
     ]
    }
   ],
   "source": [
    "#ARANGE\n",
    "#Membuat Array Vector dengan Range\n",
    "\n",
    "# Membuat sebuah array vector  0 - 9\n",
    "c = np.arange(10)\n",
    "print(f'c : {c}')\n",
    "# Membuat sebuah array vector  1- 10\n",
    "d = np.arange(1,11)\n",
    "print(f'd : {d}')\n",
    "# Membuat sebuah array vector  0- 10 genap\n",
    "e = np.arange(0,11,2)\n",
    "print(f'e : {e}')\n",
    "# Membuat sebuah array vector  10-0\n",
    "f = np.arange(10,0,-1)\n",
    "print(f'f : {f}')"
   ]
  },
  {
   "cell_type": "code",
   "execution_count": 45,
   "metadata": {},
   "outputs": [
    {
     "name": "stdout",
     "output_type": "stream",
     "text": [
      "g : [ 1.  4.  7. 10.]\n",
      "h : [ 0. 10.]\n",
      "i : [ 0.   2.5  5.   7.5 10. ]\n",
      "j : [ 1.  2.  3.  4.  5.  6.  7.  8.  9. 10.]\n"
     ]
    }
   ],
   "source": [
    "#LINSPACE\n",
    "#Membuat panjang array yg ditentukan (angka ketiga dari syntax), dengan jarak antar nilai pada array adalah sama\n",
    "\n",
    "# Dari 1 - 10, sebanyak 4 angka\n",
    "g = np.linspace(1,10,4)\n",
    "print(f'g : {g}')\n",
    "# Dari 0 - 10, sebanyak 2 angka\n",
    "h = np.linspace(0,10,2)\n",
    "print(f'h : {h}')\n",
    "# Dari 0 - 10, sebanyak 5 angka\n",
    "i = np.linspace(0,10,5)\n",
    "print(f'i : {i}')\n",
    "# Dari 1 - 10, sebanyak 10 angka\n",
    "j = np.linspace(1,10,10)\n",
    "print(f'j : {j}')"
   ]
  },
  {
   "cell_type": "code",
   "execution_count": 7,
   "metadata": {},
   "outputs": [
    {
     "name": "stdout",
     "output_type": "stream",
     "text": [
      "randInt = 8\n",
      "randInt2 = [1 4 7 3 8 7 8]\n"
     ]
    }
   ],
   "source": [
    "#RANDOM INTEGER\n",
    "\n",
    "# Random integer dari 1 - 10, sebanyak 1 data\n",
    "randInt = np.random.randint(1, 11) #--> (1,11) adalah arange dari 1-10 & (1/default/tidak ditampilak) adalah banyak data int yg ingin ditampilkan\n",
    "print(f'randInt = {randInt}')\n",
    "# Random integer dari 1 - 10, sebanyak 7 data\n",
    "randInt2  = np.random.randint(1,11,7) #--> (1,11) adalah arange dari 1-10 & (7) adalah banyak data int yg ingin ditampilkan\n",
    "print(f'randInt2 = {randInt2}')"
   ]
  },
  {
   "cell_type": "code",
   "execution_count": 12,
   "metadata": {},
   "outputs": [
    {
     "name": "stdout",
     "output_type": "stream",
     "text": [
      "Array k : [1 2 3 4 5 6]\n",
      "shape k : (6,)\n",
      "\n",
      "reshape k(2 baris,3 kolom) :\n",
      " [[1 2 3]\n",
      " [4 5 6]]\n",
      "shapenya : (2, 3)\n",
      "\n",
      "reshape k(3 baris,2 kolom) :\n",
      " [[1 2]\n",
      " [3 4]\n",
      " [5 6]]\n",
      "shapenya : (3, 2)\n",
      "\n",
      "reshape k(3,2) mejadi 1 baris kembali : [1 2 3 4 5 6]\n",
      "shapenya : (6,)\n"
     ]
    }
   ],
   "source": [
    "#SHAPE & RESHAPE\n",
    "\n",
    "# shape digunakan untuk melihat  bentuk array\n",
    "k = np.arange(1,7)\n",
    "print(f'Array k : {k}')\n",
    "print(f'shape k : {k.shape}')\n",
    "\n",
    "print()\n",
    "\n",
    "# reshape digunakan untuk mengubah bentu array\n",
    "# reshape(2, 3) --> Mengubah bentuk menjadi 2 baris 3 kolom\n",
    "k1 = k.reshape(2, 3)\n",
    "print(f'reshape k(2 baris,3 kolom) :\\n {k1}')\n",
    "print(f'shapenya : {k.reshape(2,3).shape}')\n",
    "print()\n",
    "# reshape(3, 2) --> Mengubah bentuk menjadi 3 baris 2 kolom\n",
    "k2 = k.reshape(3, 2)\n",
    "print(f'reshape k(3 baris,2 kolom) :\\n {k2}')\n",
    "print(f'shapenya : {k.reshape(3,2).shape}')\n",
    "print()\n",
    "# reshape(3, 2) --> Mengubah bentuk 3 baris 2 kolom, menjadi 1 baris\n",
    "k3 = k2.reshape(6)\n",
    "print(f'reshape k(3,2) mejadi 1 baris kembali : {k3}')\n",
    "print(f'shapenya : {k.reshape(6).shape}')\n"
   ]
  },
  {
   "cell_type": "code",
   "execution_count": 76,
   "metadata": {},
   "outputs": [
    {
     "name": "stdout",
     "output_type": "stream",
     "text": [
      "[29 45 43 39 28 12  6 23 27 17]\n",
      "nilai max dari random array : 45\n",
      "cara ke-2 dengan universal function = 45\n",
      "nilai min dari random array : 6\n"
     ]
    }
   ],
   "source": [
    "#MAX() & MIN()\n",
    "\n",
    "# Random dari 0 - 49, sebanyak 10 data\n",
    "rndmArr = np.random.randint(0,50,10)\n",
    "print(rndmArr)\n",
    "\n",
    "maxInt = rndmArr.max()\n",
    "print(f'nilai max dari random array : {maxInt}')\n",
    "print(f'cara ke-2 dengan universal function = {np.max(maxInt)}') #syntax menggunakan universal function\n",
    "minInt = rndmArr.min()\n",
    "print(f'nilai min dari random array : {minInt}')"
   ]
  },
  {
   "cell_type": "code",
   "execution_count": 81,
   "metadata": {},
   "outputs": [
    {
     "name": "stdout",
     "output_type": "stream",
     "text": [
      "Vector :\n",
      " [ 1  2  3  4  5  6  7  8  9 10 11 12 13 14 15 16 17 18 19 20 21 22 23 24\n",
      " 25]\n",
      "Matrics (5,5):\n",
      " [[ 1  2  3  4  5]\n",
      " [ 6  7  8  9 10]\n",
      " [11 12 13 14 15]\n",
      " [16 17 18 19 20]\n",
      " [21 22 23 24 25]]\n",
      "Nilai Max dari Matrics (5,5) : 25\n",
      "Nilai Min dari Matrics (5,5) : 1\n",
      "\n",
      "Matrics baris 2&5 :\n",
      "[ 6  7  8  9 10]\n",
      "[21 22 23 24 25]\n",
      "\n",
      "Nilai Max pada baris ke-2 : 10\n",
      "Nilai Min pada baris ke-4 (baris terakhir) : 21\n"
     ]
    }
   ],
   "source": [
    "#MAX & MIN pada Array 2-d / MATRICS\n",
    "\n",
    "vctr = np.arange(1,26)\n",
    "print(f'Vector :\\n {vctr}')\n",
    "#reshape vector menjadi matrics (5,5)\n",
    "mtrx = vctr.reshape(5,5)\n",
    "print(f'Matrics (5,5):\\n {mtrx}')\n",
    "\n",
    "#Mencari nilai MAX & MIN dari matrics\n",
    "maxMtrx = mtrx.max()\n",
    "print(f'Nilai Max dari Matrics (5,5) : {maxMtrx}')\n",
    "minMtrx = mtrx.min()\n",
    "print(f'Nilai Min dari Matrics (5,5) : {minMtrx}')\n",
    "print()\n",
    "\n",
    "#Mencari nilai MAX & MIN baris ke 2&5 pada matrics\n",
    "\n",
    "#ambil baris yang ingin dicari nilai Max & Min nya\n",
    "print('Matrics baris 2&5 :')\n",
    "print(mtrx[1])\n",
    "print(mtrx[-1])\n",
    "print()\n",
    "print(f'Nilai Max pada baris ke-2 : {mtrx[1].max()}')\n",
    "print(f'Nilai Min pada baris ke-4 (baris terakhir) : {mtrx[-1].min()}')\n",
    "\n",
    "\n"
   ]
  },
  {
   "cell_type": "code",
   "execution_count": 62,
   "metadata": {},
   "outputs": [
    {
     "name": "stdout",
     "output_type": "stream",
     "text": [
      "INDEXING ONE DIMENSION\n",
      "arrRange = [ 0  1  2  3  4  5  6  7  8  9 10]\n",
      "Indek ke-4 arrRange : 4\n",
      "indeks 2-6 arrRange : [2 3 4 5 6]\n",
      "indeks pertama-6 arrRange : [0 1 2 3 4 5 6]\n",
      "indeks ke 2-terakhir arrRange : [ 2  3  4  5  6  7  8  9 10]\n",
      "\n",
      "broadcast : [ 0  1 99 99 99 99 99  7  8  9 10]\n",
      "\n",
      "INDEXING TWO DIMENSION\n",
      "[[ 5 10 15]\n",
      " [20 25 30]\n",
      " [35 40 45]]\n",
      "indeks 1 arrMatrics : [20 25 30]\n",
      "Value pada indeks 1 dari indeks 1 matrics arrMatrics :\n",
      "25\n",
      "25\n",
      "index pertama-kedua arrMatrics :\n",
      " [[ 5 10 15]\n",
      " [20 25 30]]\n",
      "\n",
      "nilai pada baris pertama-kedua & kolom kedua-terkahir :\n",
      "[[10 15]\n",
      " [25 30]]\n",
      "nilai pada baris kedua-terakhir & kolom pertama-kedua :\n",
      "[[20 25]\n",
      " [35 40]]\n"
     ]
    }
   ],
   "source": [
    "#INDEXING\n",
    "\n",
    "#INDEXING ONE DIMENSION\n",
    "print('INDEXING ONE DIMENSION')\n",
    "arrRange = np.arange(0,11)\n",
    "print(f'arrRange = {arrRange}')\n",
    "#Indeks 4 dari arrRange\n",
    "print(f'Indek ke-4 arrRange : {arrRange[4]}')\n",
    "# Select dari index 2 - 6 arrRange\n",
    "print(f'indeks 2-6 arrRange : {arrRange[2:7]}')\n",
    "# Select dari index awal - 6\n",
    "print(f'indeks pertama-6 arrRange : {arrRange[:7]}')\n",
    "# Select dari index 2 - selesai\n",
    "print(f'indeks ke 2-terakhir arrRange : {arrRange[2:]}')\n",
    "print()\n",
    "\n",
    "#BROADCASTING\n",
    "\n",
    "arrRange[2:7] = 99 #menngganti angka pada indeks 2-6 menjadi angka 99\n",
    "print(f'broadcast : {arrRange}')\n",
    "print()\n",
    "\n",
    "\n",
    "#INDEXING TWO DIMENSION\n",
    "print('INDEXING TWO DIMENSION')\n",
    "arrMatrics = np.array([[5,10,15], [20,25,30], [35,40,45]])\n",
    "print(arrMatrics)\n",
    "#indeks ke-1 pada arrMatrics\n",
    "print(f'indeks 1 arrMatrics : {arrMatrics[1]}')\n",
    "\n",
    "# Access value\n",
    "print('Value pada indeks 1 dari indeks 1 matrics arrMatrics :')\n",
    "print(arrMatrics[1][1])\n",
    "# or\n",
    "print(arrMatrics[1, 1])\n",
    "\n",
    "#index pertama-kedua \n",
    "print(f'index pertama-kedua arrMatrics :\\n {arrMatrics[0:2]}')\n",
    "print()\n",
    "# row : 2 (index 0 - 1)\n",
    "# column 1: (index 1 - terakhir)\n",
    "print('nilai pada baris pertama-kedua & kolom kedua-terkahir :')\n",
    "print(arrMatrics[: 2, 1 :])\n",
    "\n",
    "# row : index 1 - selesai\n",
    "# column : index 0 - 1\n",
    "print('nilai pada baris kedua-terakhir & kolom pertama-kedua :')\n",
    "print(arrMatrics[1:, 0 :2])\n",
    "\n"
   ]
  },
  {
   "cell_type": "code",
   "execution_count": 71,
   "metadata": {},
   "outputs": [
    {
     "name": "stdout",
     "output_type": "stream",
     "text": [
      "[ 1  2  3  4  5  6  7  8  9 10]\n",
      "\n",
      "[False False False False False  True  True  True  True  True]\n",
      "[ 6  7  8  9 10]\n",
      "[ 2  4  6  8 10]\n",
      "[11 12 13 14 15 16 17 18 19 20]\n",
      "[1 0 1 0 1 0 1 0 1 0]\n",
      "[ 2  4  6  8 10 12 14 16 18 20]\n",
      "[  1   4   9  16  25  36  49  64  81 100]\n"
     ]
    }
   ],
   "source": [
    "#SELCETION\n",
    "arrInt = np.arange(1, 11)\n",
    "print(arrInt)\n",
    "print()\n",
    "\n",
    "#menampilkan nilai boolean jika nilai pada aray arrInt lebih dari 5\n",
    "arrBool = arrInt > 5\n",
    "print(arrBool)\n",
    "#mengambil nilai pada array arrInt yang lebih besar dari 5\n",
    "print(arrInt[arrInt > 5])\n",
    "#mengambil nilai pada array arrInt yang habis dibagi 2\n",
    "print(arrInt[arrInt % 2 == 0])\n",
    "#menambahkan nilai pada array arrInt dengan 10\n",
    "print(arrInt + 10)\n",
    "#nilai modulus 2 pada setiap nilai di array arrInt\n",
    "print(arrInt % 2)\n",
    "#menambahkan nilai pada array arrInt dengan dirinya sendiri\n",
    "print(arrInt + arrInt)\n",
    "#mengkalikan nilai pada array arrInt dengan dirinya sendiri\n",
    "print(arrInt * arrInt)"
   ]
  },
  {
   "cell_type": "code",
   "execution_count": 72,
   "metadata": {},
   "outputs": [
    {
     "name": "stdout",
     "output_type": "stream",
     "text": [
      "Nilai max dari list :  10\n",
      "Nilai max dari tupple :  10\n"
     ]
    }
   ],
   "source": [
    "#UNIVERSAL FUNCTION\n",
    "\n",
    "lstNumbers = [1, 2, 3, 4, 5, 6, 7, 8, 9, 10]\n",
    "tupNumbers = (1, 2, 3, 4, 5, 6, 7, 8, 9, 10)\n",
    "# numbers = np.array(numbers)\n",
    "print('Nilai max dari list : ',np.max(lstNumbers))\n",
    "print('Nilai max dari tupple : ',np.max(tupNumbers))"
   ]
  },
  {
   "cell_type": "code",
   "execution_count": 87,
   "metadata": {},
   "outputs": [
    {
     "name": "stdout",
     "output_type": "stream",
     "text": [
      "1-d : \n",
      " [0. 0. 0. 0. 0.]\n",
      "2-d : \n",
      " [[0. 0. 0. 0. 0.]\n",
      " [0. 0. 0. 0. 0.]\n",
      " [0. 0. 0. 0. 0.]\n",
      " [0. 0. 0. 0. 0.]\n",
      " [0. 0. 0. 0. 0.]]\n",
      "\n",
      "1-d : \n",
      " [1. 1. 1. 1. 1.]\n",
      "2-d : \n",
      " [[1. 1. 1. 1. 1.]\n",
      " [1. 1. 1. 1. 1.]\n",
      " [1. 1. 1. 1. 1.]\n",
      " [1. 1. 1. 1. 1.]\n",
      " [1. 1. 1. 1. 1.]]\n"
     ]
    }
   ],
   "source": [
    "#ZERO & ONE\n",
    "\n",
    "#Zero Vector / 1-d\n",
    "arrZero = np.zeros(5)\n",
    "print(f'1-d : \\n {arrZero}')\n",
    "arrZero = np.zeros((5,5))\n",
    "print(f'2-d : \\n {arrZero}')\n",
    "\n",
    "print()\n",
    "arrOne = np.ones(5)\n",
    "print(f'1-d : \\n {arrOne}')\n",
    "arrOne = np.ones((5,5))\n",
    "print(f'2-d : \\n {arrOne}')"
   ]
  },
  {
   "cell_type": "code",
   "execution_count": null,
   "metadata": {},
   "outputs": [],
   "source": []
  }
 ],
 "metadata": {
  "kernelspec": {
   "display_name": "Python 3",
   "language": "python",
   "name": "python3"
  },
  "language_info": {
   "codemirror_mode": {
    "name": "ipython",
    "version": 3
   },
   "file_extension": ".py",
   "mimetype": "text/x-python",
   "name": "python",
   "nbconvert_exporter": "python",
   "pygments_lexer": "ipython3",
   "version": "3.7.4"
  }
 },
 "nbformat": 4,
 "nbformat_minor": 4
}
